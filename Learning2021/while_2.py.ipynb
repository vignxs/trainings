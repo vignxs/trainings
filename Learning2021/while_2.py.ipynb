{
 "cells": [
  {
   "cell_type": "code",
   "execution_count": 1,
   "metadata": {
    "scrolled": true
   },
   "outputs": [
    {
     "name": "stdout",
     "output_type": "stream",
     "text": [
      "verifying users : vik\n",
      "verifying users : dhi\n",
      "verifying users : alice\n",
      "follwing users are verified \n",
      "vik\n",
      "dhi\n",
      "alice\n"
     ]
    }
   ],
   "source": [
    "users = ['alice','dhi','vik']\n",
    "c_users=[]\n",
    "while users:\n",
    "    current_users=users.pop()\n",
    "    \n",
    "    print(f\"verifying users : {current_users}\")\n",
    "    c_users.append(current_users)\n",
    "    \n",
    "print(\"follwing users are verified \")\n",
    "for i in c_users:\n",
    "    print(i)"
   ]
  },
  {
   "cell_type": "code",
   "execution_count": 2,
   "metadata": {},
   "outputs": [
    {
     "name": "stdout",
     "output_type": "stream",
     "text": [
      "not\n",
      "<bound method Process.name of psutil.Process(pid=0, name='System Idle Process', status='running')> 0\n",
      "<bound method Process.name of psutil.Process(pid=4, name='System', status='running')> 4\n",
      "<bound method Process.name of psutil.Process(pid=8, name='svchost.exe', status='running', started='2021-10-20 19:35:01')> 8\n",
      "<bound method Process.name of psutil.Process(pid=92, name='Registry', status='running', started='2021-10-20 19:33:30')> 92\n",
      "<bound method Process.name of psutil.Process(pid=224, name='csrss.exe', status='running', started='23:42:42')> 224\n",
      "<bound method Process.name of psutil.Process(pid=352, name='smss.exe', status='running', started='2021-10-20 19:34:16')> 352\n",
      "<bound method Process.name of psutil.Process(pid=416, name='svchost.exe', status='running', started='2021-10-20 19:35:01')> 416\n",
      "<bound method Process.name of psutil.Process(pid=504, name='csrss.exe', status='running', started='2021-10-20 19:34:43')> 504\n",
      "<bound method Process.name of psutil.Process(pid=608, name='wininit.exe', status='running', started='2021-10-20 19:34:45')> 608\n",
      "<bound method Process.name of psutil.Process(pid=716, name='services.exe', status='running', started='2021-10-20 19:34:45')> 716\n",
      "<bound method Process.name of psutil.Process(pid=764, name='lsass.exe', status='running', started='2021-10-20 19:34:45')> 764\n",
      "<bound method Process.name of psutil.Process(pid=784, name='AdvancedWindowsManager.exe', status='running', started='00:50:03')> 784\n",
      "<bound method Process.name of psutil.Process(pid=856, name='svchost.exe', status='running', started='2021-10-20 19:35:02')> 856\n",
      "<bound method Process.name of psutil.Process(pid=864, name='svchost.exe', status='running', started='2021-10-20 19:34:46')> 864\n",
      "<bound method Process.name of psutil.Process(pid=876, name='RuntimeBroker.exe', status='running', started='01:05:10')> 876\n",
      "<bound method Process.name of psutil.Process(pid=896, name='fontdrvhost.exe', status='running', started='2021-10-20 19:34:46')> 896\n",
      "<bound method Process.name of psutil.Process(pid=908, name='Zoom.exe', status='running', started='23:56:38')> 908\n",
      "<bound method Process.name of psutil.Process(pid=956, name='Code.exe', status='running', started='00:45:43')> 956\n",
      "<bound method Process.name of psutil.Process(pid=992, name='svchost.exe', status='running', started='2021-10-20 19:35:01')> 992\n",
      "<bound method Process.name of psutil.Process(pid=1120, name='ctfmon.exe', status='running', started='23:55:54')> 1120\n",
      "<bound method Process.name of psutil.Process(pid=1172, name='svchost.exe', status='running', started='2021-10-20 19:35:02')> 1172\n",
      "<bound method Process.name of psutil.Process(pid=1180, name='svchost.exe', status='running', started='2021-10-20 19:35:02')> 1180\n",
      "<bound method Process.name of psutil.Process(pid=1196, name='wslhost.exe', status='running', started='00:47:48')> 1196\n",
      "<bound method Process.name of psutil.Process(pid=1216, name='svchost.exe', status='running', started='2021-10-20 19:49:25')> 1216\n",
      "<bound method Process.name of psutil.Process(pid=1228, name='svchost.exe', status='running', started='11:24:02')> 1228\n",
      "<bound method Process.name of psutil.Process(pid=1356, name='atiesrxx.exe', status='running', started='2021-10-20 19:35:02')> 1356\n",
      "<bound method Process.name of psutil.Process(pid=1440, name='svchost.exe', status='running', started='2021-10-20 19:35:03')> 1440\n",
      "<bound method Process.name of psutil.Process(pid=1452, name='conhost.exe', status='running', started='00:50:04')> 1452\n",
      "<bound method Process.name of psutil.Process(pid=1460, name='svchost.exe', status='running', started='2021-10-20 19:35:03')> 1460\n",
      "<bound method Process.name of psutil.Process(pid=1480, name='python.exe', status='running', started='00:55:27')> 1480\n",
      "<bound method Process.name of psutil.Process(pid=1532, name='svchost.exe', status='running', started='2021-10-20 19:35:03')> 1532\n",
      "<bound method Process.name of psutil.Process(pid=1544, name='svchost.exe', status='running', started='2021-10-20 19:35:03')> 1544\n",
      "<bound method Process.name of psutil.Process(pid=1564, name='svchost.exe', status='running', started='2021-10-20 19:35:03')> 1564\n",
      "<bound method Process.name of psutil.Process(pid=1572, name='svchost.exe', status='running', started='2021-10-20 19:35:03')> 1572\n",
      "<bound method Process.name of psutil.Process(pid=1672, name='svchost.exe', status='running', started='2021-10-20 19:35:04')> 1672\n",
      "<bound method Process.name of psutil.Process(pid=1680, name='svchost.exe', status='running', started='2021-10-20 19:35:03')> 1680\n",
      "<bound method Process.name of psutil.Process(pid=1692, name='svchost.exe', status='running', started='2021-10-20 19:35:03')> 1692\n",
      "<bound method Process.name of psutil.Process(pid=1708, name='MemCompression', status='running', started='2021-10-20 19:35:03')> 1708\n",
      "<bound method Process.name of psutil.Process(pid=1732, name='svchost.exe', status='running', started='2021-10-20 19:35:03')> 1732\n",
      "<bound method Process.name of psutil.Process(pid=1748, name='zCefAgent.exe', status='running', started='23:58:24')> 1748\n",
      "<bound method Process.name of psutil.Process(pid=1756, name='svchost.exe', status='running', started='2021-10-20 19:35:03')> 1756\n",
      "<bound method Process.name of psutil.Process(pid=1804, name='svchost.exe', status='running', started='2021-10-20 19:37:21')> 1804\n",
      "<bound method Process.name of psutil.Process(pid=1820, name='svchost.exe', status='running', started='2021-10-20 19:35:03')> 1820\n",
      "<bound method Process.name of psutil.Process(pid=1840, name='svchost.exe', status='running', started='2021-10-20 19:35:03')> 1840\n",
      "<bound method Process.name of psutil.Process(pid=1896, name='svchost.exe', status='running', started='2021-10-20 19:35:03')> 1896\n",
      "<bound method Process.name of psutil.Process(pid=2036, name='WmiPrvSE.exe', status='running', started='01:45:04')> 2036\n",
      "<bound method Process.name of psutil.Process(pid=2040, name='svchost.exe', status='running', started='2021-10-20 19:35:04')> 2040\n",
      "<bound method Process.name of psutil.Process(pid=2104, name='svchost.exe', status='running', started='2021-10-20 19:35:04')> 2104\n",
      "<bound method Process.name of psutil.Process(pid=2144, name='svchost.exe', status='running', started='2021-10-20 19:35:04')> 2144\n",
      "<bound method Process.name of psutil.Process(pid=2176, name='svchost.exe', status='running', started='01:45:07')> 2176\n",
      "<bound method Process.name of psutil.Process(pid=2216, name='svchost.exe', status='running', started='2021-10-20 19:37:22')> 2216\n",
      "<bound method Process.name of psutil.Process(pid=2232, name='svchost.exe', status='running', started='2021-10-20 19:35:06')> 2232\n",
      "<bound method Process.name of psutil.Process(pid=2348, name='svchost.exe', status='running', started='2021-10-20 19:35:08')> 2348\n",
      "<bound method Process.name of psutil.Process(pid=2356, name='svchost.exe', status='running', started='2021-10-20 19:35:08')> 2356\n",
      "<bound method Process.name of psutil.Process(pid=2364, name='init', status='running', started='00:47:21')> 2364\n",
      "<bound method Process.name of psutil.Process(pid=2368, name='svchost.exe', status='running', started='2021-10-20 19:35:08')> 2368\n",
      "<bound method Process.name of psutil.Process(pid=2408, name='svchost.exe', status='running', started='2021-10-20 19:35:11')> 2408\n",
      "<bound method Process.name of psutil.Process(pid=2536, name='svchost.exe', status='running', started='2021-10-20 19:35:09')> 2536\n",
      "<bound method Process.name of psutil.Process(pid=2616, name='svchost.exe', status='running', started='2021-10-20 19:35:10')> 2616\n",
      "<bound method Process.name of psutil.Process(pid=2640, name='svchost.exe', status='running', started='11:24:04')> 2640\n",
      "<bound method Process.name of psutil.Process(pid=2644, name='svchost.exe', status='running', started='2021-10-20 19:35:10')> 2644\n",
      "<bound method Process.name of psutil.Process(pid=2724, name='spoolsv.exe', status='running', started='2021-10-20 19:35:10')> 2724\n",
      "<bound method Process.name of psutil.Process(pid=2752, name='svchost.exe', status='running', started='2021-10-20 19:35:10')> 2752\n",
      "<bound method Process.name of psutil.Process(pid=2788, name='svchost.exe', status='running', started='2021-10-20 19:35:11')> 2788\n",
      "<bound method Process.name of psutil.Process(pid=2804, name='chrome.exe', status='running', started='23:57:16')> 2804\n",
      "<bound method Process.name of psutil.Process(pid=2888, name='armsvc.exe', status='running', started='2021-10-20 19:35:11')> 2888\n",
      "<bound method Process.name of psutil.Process(pid=2900, name='CxUIUSvc32.exe', status='running', started='2021-10-20 19:35:11')> 2900\n",
      "<bound method Process.name of psutil.Process(pid=2908, name='AdminService.exe', status='running', started='2021-10-20 19:35:11')> 2908\n",
      "<bound method Process.name of psutil.Process(pid=2924, name='CxUtilSvc.exe', status='running', started='2021-10-20 19:35:11')> 2924\n",
      "<bound method Process.name of psutil.Process(pid=2932, name='CxAudioSvc.exe', status='running', started='2021-10-20 19:35:11')> 2932\n",
      "<bound method Process.name of psutil.Process(pid=2948, name='ETDService.exe', status='running', started='2021-10-20 19:35:11')> 2948\n",
      "<bound method Process.name of psutil.Process(pid=2956, name='svchost.exe', status='running', started='2021-10-20 19:35:11')> 2956\n",
      "<bound method Process.name of psutil.Process(pid=2964, name='svchost.exe', status='running', started='2021-10-20 19:35:11')> 2964\n",
      "<bound method Process.name of psutil.Process(pid=2972, name='svchost.exe', status='running', started='2021-10-20 19:35:11')> 2972\n",
      "<bound method Process.name of psutil.Process(pid=2992, name='nssm.exe', status='running', started='2021-10-20 19:35:11')> 2992\n",
      "<bound method Process.name of psutil.Process(pid=3012, name='svchost.exe', status='running', started='2021-10-20 19:35:11')> 3012\n",
      "<bound method Process.name of psutil.Process(pid=3040, name='svchost.exe', status='running', started='2021-10-20 19:35:11')> 3040\n",
      "<bound method Process.name of psutil.Process(pid=3156, name='mysqld.exe', status='running', started='2021-10-20 19:35:11')> 3156\n",
      "<bound method Process.name of psutil.Process(pid=3172, name='svchost.exe', status='running', started='2021-10-20 19:35:11')> 3172\n",
      "<bound method Process.name of psutil.Process(pid=3200, name='SASrv.exe', status='running', started='2021-10-20 19:35:11')> 3200\n",
      "<bound method Process.name of psutil.Process(pid=3212, name='TeamViewer_Service.exe', status='running', started='2021-10-20 19:35:11')> 3212\n",
      "<bound method Process.name of psutil.Process(pid=3292, name='svchost.exe', status='running', started='2021-10-20 19:35:12')> 3292\n",
      "<bound method Process.name of psutil.Process(pid=3300, name='svchost.exe', status='running', started='2021-10-20 19:35:12')> 3300\n",
      "<bound method Process.name of psutil.Process(pid=3308, name='svchost.exe', status='running', started='2021-10-20 19:35:12')> 3308\n",
      "<bound method Process.name of psutil.Process(pid=3320, name='expressvpnd.exe', status='running', started='2021-10-20 19:35:12')> 3320\n",
      "<bound method Process.name of psutil.Process(pid=3332, name='svchost.exe', status='running', started='23:57:50')> 3332\n",
      "<bound method Process.name of psutil.Process(pid=3348, name='MsMpEng.exe', status='running', started='2021-10-20 19:35:12')> 3348\n",
      "<bound method Process.name of psutil.Process(pid=3372, name='svchost.exe', status='running', started='2021-10-20 19:35:12')> 3372\n",
      "<bound method Process.name of psutil.Process(pid=3404, name='zCefAgent.exe', status='running', started='23:58:34')> 3404\n",
      "<bound method Process.name of psutil.Process(pid=3416, name='svchost.exe', status='running', started='2021-10-20 19:35:12')> 3416\n",
      "<bound method Process.name of psutil.Process(pid=3448, name='dasHost.exe', status='running', started='2021-10-20 19:35:12')> 3448\n",
      "<bound method Process.name of psutil.Process(pid=3516, name='svchost.exe', status='running', started='2021-10-20 19:37:48')> 3516\n",
      "<bound method Process.name of psutil.Process(pid=3604, name='conhost.exe', status='running', started='2021-10-20 19:35:12')> 3604\n",
      "<bound method Process.name of psutil.Process(pid=3652, name='mysqld.exe', status='running', started='2021-10-20 19:35:12')> 3652\n",
      "<bound method Process.name of psutil.Process(pid=3696, name='conhost.exe', status='running', started='2021-10-20 19:35:12')> 3696\n",
      "<bound method Process.name of psutil.Process(pid=3812, name='svchost.exe', status='running', started='2021-10-20 19:35:12')> 3812\n",
      "<bound method Process.name of psutil.Process(pid=3860, name='svchost.exe', status='running', started='2021-10-20 19:37:12')> 3860\n",
      "<bound method Process.name of psutil.Process(pid=3904, name='SearchIndexer.exe', status='running', started='2021-10-20 19:38:01')> 3904\n",
      "<bound method Process.name of psutil.Process(pid=3988, name='svchost.exe', status='running', started='2021-10-20 19:35:14')> 3988\n",
      "<bound method Process.name of psutil.Process(pid=4180, name='NisSrv.exe', status='running', started='2021-10-20 19:35:54')> 4180\n",
      "<bound method Process.name of psutil.Process(pid=4236, name='svchost.exe', status='running', started='2021-10-20 19:35:16')> 4236\n",
      "<bound method Process.name of psutil.Process(pid=4296, name='AdvancedWindowsManager.exe', status='running', started='01:35:01')> 4296\n",
      "<bound method Process.name of psutil.Process(pid=4364, name='zCefAgent.exe', status='running', started='23:58:35')> 4364\n",
      "<bound method Process.name of psutil.Process(pid=4396, name='SgrmBroker.exe', status='running', started='2021-10-20 19:37:34')> 4396\n",
      "<bound method Process.name of psutil.Process(pid=4520, name='conhost.exe', status='running', started='00:56:04')> 4520\n",
      "<bound method Process.name of psutil.Process(pid=4528, name='CCXProcess.exe', status='running', started='23:56:26')> 4528\n",
      "<bound method Process.name of psutil.Process(pid=4652, name='Code.exe', status='running', started='00:49:02')> 4652\n",
      "<bound method Process.name of psutil.Process(pid=4664, name='conhost.exe', status='running', started='01:04:20')> 4664\n",
      "<bound method Process.name of psutil.Process(pid=4672, name='conhost.exe', status='running', started='00:55:25')> 4672\n",
      "<bound method Process.name of psutil.Process(pid=4688, name='SettingSyncHost.exe', status='running', started='23:56:10')> 4688\n",
      "<bound method Process.name of psutil.Process(pid=5016, name='svchost.exe', status='running', started='2021-10-20 19:37:36')> 5016\n",
      "<bound method Process.name of psutil.Process(pid=5020, name='ShellExperienceHost.exe', status='running', started='23:58:10')> 5020\n",
      "<bound method Process.name of psutil.Process(pid=5176, name='Code.exe', status='running', started='00:46:01')> 5176\n",
      "<bound method Process.name of psutil.Process(pid=5236, name='svchost.exe', status='running', started='2021-10-20 19:37:24')> 5236\n",
      "<bound method Process.name of psutil.Process(pid=5268, name='Code.exe', status='running', started='00:46:02')> 5268\n",
      "<bound method Process.name of psutil.Process(pid=5292, name='taskhostw.exe', status='running', started='23:55:50')> 5292\n",
      "<bound method Process.name of psutil.Process(pid=5428, name='svchost.exe', status='running', started='2021-10-20 19:37:26')> 5428\n",
      "<bound method Process.name of psutil.Process(pid=5488, name='svchost.exe', status='running', started='2021-10-20 19:37:27')> 5488\n",
      "<bound method Process.name of psutil.Process(pid=5572, name='conhost.exe', status='running', started='00:50:04')> 5572\n",
      "<bound method Process.name of psutil.Process(pid=5604, name='zCefAgent.exe', status='running', started='23:58:35')> 5604\n",
      "<bound method Process.name of psutil.Process(pid=5708, name='fontdrvhost.exe', status='running', started='23:42:44')> 5708\n",
      "<bound method Process.name of psutil.Process(pid=5776, name='AdobeIPCBroker.exe', status='running', started='23:57:58')> 5776\n",
      "<bound method Process.name of psutil.Process(pid=5856, name='svchost.exe', status='running', started='2021-10-20 19:37:30')> 5856\n",
      "<bound method Process.name of psutil.Process(pid=5928, name='conhost.exe', status='running', started='01:14:32')> 5928\n",
      "<bound method Process.name of psutil.Process(pid=5948, name='svchost.exe', status='running', started='2021-10-20 19:37:52')> 5948\n",
      "<bound method Process.name of psutil.Process(pid=5964, name='chrome.exe', status='running', started='23:57:38')> 5964\n",
      "<bound method Process.name of psutil.Process(pid=6104, name='GoogleCrashHandler.exe', status='running', started='2021-10-20 19:37:34')> 6104\n",
      "<bound method Process.name of psutil.Process(pid=6112, name='GoogleCrashHandler64.exe', status='running', started='2021-10-20 19:37:34')> 6112\n",
      "<bound method Process.name of psutil.Process(pid=6196, name='ETDIntelligent.exe', status='running', started='23:55:53')> 6196\n",
      "<bound method Process.name of psutil.Process(pid=6316, name='conhost.exe', status='running', started='00:47:48')> 6316\n",
      "<bound method Process.name of psutil.Process(pid=6356, name='SearchApp.exe', status='stopped', started='23:57:51')> 6356\n",
      "<bound method Process.name of psutil.Process(pid=6408, name='python.exe', status='running', started='01:04:20')> 6408\n",
      "<bound method Process.name of psutil.Process(pid=6644, name='OneDrive.exe', status='running', started='23:56:25')> 6644\n",
      "<bound method Process.name of psutil.Process(pid=6736, name='conhost.exe', status='running', started='00:50:03')> 6736\n",
      "<bound method Process.name of psutil.Process(pid=6808, name='svchost.exe', status='running', started='2021-10-20 19:38:38')> 6808\n",
      "<bound method Process.name of psutil.Process(pid=6884, name='AdvancedWindowsManager.exe', status='running', started='01:30:01')> 6884\n",
      "<bound method Process.name of psutil.Process(pid=6888, name='Code.exe', status='running', started='00:46:07')> 6888\n",
      "<bound method Process.name of psutil.Process(pid=6984, name='svchost.exe', status='running', started='23:55:50')> 6984\n",
      "<bound method Process.name of psutil.Process(pid=7060, name='svchost.exe', status='running', started='2021-10-20 19:39:30')> 7060\n",
      "<bound method Process.name of psutil.Process(pid=7200, name='sihost.exe', status='running', started='23:55:50')> 7200\n",
      "<bound method Process.name of psutil.Process(pid=7308, name='SmartAudio.exe', status='running', started='23:56:48')> 7308\n",
      "<bound method Process.name of psutil.Process(pid=7652, name='node.exe', status='running', started='23:56:26')> 7652\n",
      "<bound method Process.name of psutil.Process(pid=7660, name='svchost.exe', status='running', started='00:45:17')> 7660\n",
      "<bound method Process.name of psutil.Process(pid=7768, name='AdvancedWindowsManager.exe', status='running', started='00:50:03')> 7768\n",
      "<bound method Process.name of psutil.Process(pid=7796, name='SecurityHealthService.exe', status='running', started='2021-10-20 19:39:04')> 7796\n",
      "<bound method Process.name of psutil.Process(pid=7836, name='svchost.exe', status='running', started='01:45:03')> 7836\n",
      "<bound method Process.name of psutil.Process(pid=7896, name='conhost.exe', status='running', started='01:35:01')> 7896\n",
      "<bound method Process.name of psutil.Process(pid=8016, name='chrome.exe', status='running', started='23:57:11')> 8016\n",
      "<bound method Process.name of psutil.Process(pid=8392, name='RuntimeBroker.exe', status='running', started='23:58:12')> 8392\n",
      "<bound method Process.name of psutil.Process(pid=8476, name='Code.exe', status='running', started='00:45:36')> 8476\n",
      "<bound method Process.name of psutil.Process(pid=8696, name='chrome.exe', status='running', started='23:56:26')> 8696\n",
      "<bound method Process.name of psutil.Process(pid=8764, name='conhost.exe', status='running', started='00:47:19')> 8764\n",
      "<bound method Process.name of psutil.Process(pid=8816, name='svchost.exe', status='running', started='00:46:27')> 8816\n",
      "<bound method Process.name of psutil.Process(pid=8928, name='Code.exe', status='running', started='00:46:05')> 8928\n",
      "<bound method Process.name of psutil.Process(pid=8960, name='StartMenuExperienceHost.exe', status='running', started='23:56:03')> 8960\n",
      "<bound method Process.name of psutil.Process(pid=9028, name='zCefAgent.exe', status='running', started='23:58:35')> 9028\n",
      "<bound method Process.name of psutil.Process(pid=9312, name='conhost.exe', status='running', started='23:56:26')> 9312\n",
      "<bound method Process.name of psutil.Process(pid=9420, name='MoUsoCoreWorker.exe', status='running', started='03:36:00')> 9420\n",
      "<bound method Process.name of psutil.Process(pid=9564, name='Code.exe', status='running', started='00:45:41')> 9564\n",
      "<bound method Process.name of psutil.Process(pid=9572, name='RuntimeBroker.exe', status='running', started='23:56:07')> 9572\n",
      "<bound method Process.name of psutil.Process(pid=9708, name='dwm.exe', status='running', started='23:42:44')> 9708\n",
      "<bound method Process.name of psutil.Process(pid=9756, name='Code.exe', status='running', started='01:45:28')> 9756\n",
      "<bound method Process.name of psutil.Process(pid=9860, name='chrome.exe', status='running', started='23:57:06')> 9860\n",
      "<bound method Process.name of psutil.Process(pid=10072, name='zCefAgent.exe', status='running', started='23:58:35')> 10072\n",
      "<bound method Process.name of psutil.Process(pid=10096, name='Zoom.exe', status='running', started='00:09:13')> 10096\n",
      "<bound method Process.name of psutil.Process(pid=10200, name='svchost.exe', status='running', started='2021-10-20 22:36:48')> 10200\n",
      "<bound method Process.name of psutil.Process(pid=10408, name='svchost.exe', status='running', started='23:55:55')> 10408\n",
      "<bound method Process.name of psutil.Process(pid=10464, name='chrome.exe', status='running', started='01:24:42')> 10464\n",
      "<bound method Process.name of psutil.Process(pid=10472, name='dllhost.exe', status='running', started='01:04:15')> 10472\n",
      "<bound method Process.name of psutil.Process(pid=10604, name='svchost.exe', status='running', started='2021-10-20 22:36:48')> 10604\n",
      "<bound method Process.name of psutil.Process(pid=10720, name='conhost.exe', status='running', started='01:30:01')> 10720\n",
      "<bound method Process.name of psutil.Process(pid=10816, name='TiWorker.exe', status='running', started='2021-10-20 22:36:42')> 10816\n",
      "<bound method Process.name of psutil.Process(pid=10860, name='SecurityHealthSystray.exe', status='running', started='23:56:18')> 10860\n",
      "<bound method Process.name of psutil.Process(pid=11084, name='powershell.exe', status='running', started='01:14:33')> 11084\n",
      "<bound method Process.name of psutil.Process(pid=11232, name='svchost.exe', status='running', started='23:55:50')> 11232\n",
      "<bound method Process.name of psutil.Process(pid=11480, name='AdvancedWindowsManager.exe', status='running', started='00:50:03')> 11480\n",
      "<bound method Process.name of psutil.Process(pid=11616, name='TrustedInstaller.exe', status='running', started='2021-10-20 22:36:42')> 11616\n",
      "<bound method Process.name of psutil.Process(pid=11952, name='python.exe', status='running', started='00:56:04')> 11952\n",
      "<bound method Process.name of psutil.Process(pid=12100, name='Code.exe', status='running', started='00:45:46')> 12100\n",
      "<bound method Process.name of psutil.Process(pid=12256, name='ETDCtrlHelper.exe', status='running', started='23:55:52')> 12256\n",
      "<bound method Process.name of psutil.Process(pid=12472, name='bash', status='running', started='00:47:48')> 12472\n",
      "<bound method Process.name of psutil.Process(pid=12516, name='utility.exe', status='running', started='23:56:20')> 12516\n",
      "<bound method Process.name of psutil.Process(pid=12532, name='ETDCtrl.exe', status='running', started='23:55:50')> 12532\n",
      "<bound method Process.name of psutil.Process(pid=12628, name='winlogon.exe', status='running', started='23:42:43')> 12628\n",
      "<bound method Process.name of psutil.Process(pid=13256, name='RuntimeBroker.exe', status='running', started='23:56:04')> 13256\n",
      "<bound method Process.name of psutil.Process(pid=13460, name='ExpressVPNNotificationService.exe', status='running', started='23:56:52')> 13460\n",
      "<bound method Process.name of psutil.Process(pid=13604, name='init', status='running', started='00:47:48')> 13604\n",
      "<bound method Process.name of psutil.Process(pid=13680, name='conhost.exe', status='running', started='00:50:04')> 13680\n",
      "<bound method Process.name of psutil.Process(pid=13696, name='svchost.exe', status='running', started='01:45:03')> 13696\n",
      "<bound method Process.name of psutil.Process(pid=13792, name='explorer.exe', status='running', started='23:55:52')> 13792\n",
      "<bound method Process.name of psutil.Process(pid=13964, name='python.exe', status='running', started='00:55:24')> 13964\n",
      "<bound method Process.name of psutil.Process(pid=13976, name='svchost.exe', status='running', started='2021-10-20 19:40:34')> 13976\n",
      "<bound method Process.name of psutil.Process(pid=14156, name='chrome.exe', status='running', started='23:56:27')> 14156\n",
      "<bound method Process.name of psutil.Process(pid=14604, name='Code.exe', status='running', started='00:45:42')> 14604\n",
      "<bound method Process.name of psutil.Process(pid=14860, name='fodhelper.exe', status='running', started='2021-10-20 22:37:13')> 14860\n",
      "<bound method Process.name of psutil.Process(pid=15140, name='wsl.exe', status='running', started='00:47:20')> 15140\n",
      "<bound method Process.name of psutil.Process(pid=15192, name='TextInputHost.exe', status='running', started='23:58:30')> 15192\n",
      "<bound method Process.name of psutil.Process(pid=15240, name='AdvancedWindowsManager.exe', status='running', started='00:50:03')> 15240\n"
     ]
    }
   ],
   "source": [
    "\n",
    "import os\n",
    "import psutil\n",
    "\n",
    "hostname = \"www.google.com\"\n",
    "response = os.system(\"ping -n 1\" + hostname)\n",
    "\n",
    "if response == 0 :\n",
    "    print(\"working\")\n",
    "print(\"not\")\n",
    "\n",
    "\n",
    "for proc in psutil.process_iter():\n",
    "    print(f\"{proc.name} {proc.pid}\")"
   ]
  },
  {
   "cell_type": "code",
   "execution_count": null,
   "metadata": {},
   "outputs": [],
   "source": []
  },
  {
   "cell_type": "code",
   "execution_count": 5,
   "metadata": {},
   "outputs": [
    {
     "name": "stdout",
     "output_type": "stream",
     "text": [
      "['dog', 'cat', 'dog', 'goldfish', 'cat', 'rabbit', 'cat']\n",
      "{'rabbit', 'goldfish', 'cat', 'dog'}\n"
     ]
    }
   ],
   "source": [
    "\n",
    "\n",
    "pets = ['dog', 'cat', 'dog', 'goldfish', 'cat', 'rabbit', 'cat']\n",
    "print(pets)\n",
    "print(set(pets))"
   ]
  },
  {
   "cell_type": "code",
   "execution_count": 13,
   "metadata": {},
   "outputs": [
    {
     "name": "stdout",
     "output_type": "stream",
     "text": [
      "['dog', 'cat', 'dog', 'goldfish', 'cat', 'rabbit', 'cat']\n",
      "['dog', 'dog', 'goldfish', 'rabbit']\n"
     ]
    }
   ],
   "source": [
    "pets = ['dog', 'cat', 'dog', 'goldfish', 'cat', 'rabbit', 'cat']\n",
    "print(pets)\n",
    "while 'cat'in pets:\n",
    "    pets.remove('cat')\n",
    "    \n",
    "print(pets)"
   ]
  },
  {
   "cell_type": "code",
   "execution_count": 9,
   "metadata": {},
   "outputs": [
    {
     "name": "stdout",
     "output_type": "stream",
     "text": [
      "['dog', 'cat', 'dog', 'goldfish', 'cat', 'rabbit', 'cat']\n",
      "['dog', 'dog', 'goldfish', 'rabbit']\n"
     ]
    }
   ],
   "source": [
    "pets = ['dog', 'cat', 'dog', 'goldfish', 'cat', 'rabbit', 'cat']\n",
    "print(pets)\n",
    "while 'cat' in pets:\n",
    "    pets.remove('cat')\n",
    "print(pets)"
   ]
  },
  {
   "cell_type": "code",
   "execution_count": 1,
   "metadata": {
    "scrolled": true
   },
   "outputs": [
    {
     "name": "stdout",
     "output_type": "stream",
     "text": [
      "\n",
      " Pool Results \n",
      "Hi Im , i want to go \n"
     ]
    }
   ],
   "source": [
    "responses = {}\n",
    "\n",
    "#flag\n",
    "poll = True\n",
    "\n",
    "while poll:\n",
    "        name=(input('tell me your name'))\n",
    "        resp=(input('which is your favorite country'))\n",
    "        \n",
    "        #storing\n",
    "        responses[name]=resp\n",
    "        \n",
    "        hi =(input('would you let another one try enter Yes/no'))\n",
    "        \n",
    "        if hi == \"no\":\n",
    "            poll = False\n",
    "print(\"\\n Pool Results \")\n",
    "for i,v in responses.items():\n",
    "    print(f\"Hi Im {i}, i want to go {v}\")"
   ]
  },
  {
   "cell_type": "code",
   "execution_count": null,
   "metadata": {},
   "outputs": [],
   "source": [
    "foods=['dosa',\"dosa\",'idly','chutney',\"dosa\",'sambar']\n",
    "food=[]\n",
    "while foods:\n",
    "    c=foods.pop()\n",
    "    \n",
    "    print(f\"i made your {c}\")\n",
    "    \n",
    "    food.append(c)\n",
    "\n",
    "for f in food:\n",
    "\n",
    "    print(f\" {f}\")\n",
    "\n",
    "print(f' we are running out of {food[-1]}')\\\n",
    "\n",
    "while \"dosa\" in food:\n",
    "    food.remove('dosa')\n",
    "\n",
    "print(food)"
   ]
  },
  {
   "cell_type": "code",
   "execution_count": null,
   "metadata": {},
   "outputs": [],
   "source": [
    "poll = True\n",
    "responses={}\n",
    "while poll:\n",
    "    name=(input('tell me your name'))\n",
    "    respo=(input('love r arranged'))\n",
    "    \n",
    "    responses[name]=resp\n",
    "    \n",
    "    hi=(input('would you like to try another one yes/no '))\n",
    "    if hi == 'no':\n",
    "        poll=False\n",
    "        \n",
    "print('-----Poll Results-----')\n",
    "for i,v in responses.items():\n",
    "    print(f\"Hi im {i}, i like {v} marriages\")\n",
    "    "
   ]
  },
  {
   "cell_type": "code",
   "execution_count": 3,
   "metadata": {},
   "outputs": [
    {
     "name": "stdout",
     "output_type": "stream",
     "text": [
      "enterr first namevgfb\n",
      "last name herehfdhn\n",
      "vgfb fdhn\n",
      "enterr first namevv\n",
      "last name herehdfbev\n",
      "vv dfbev\n",
      "enterr first nameq\n"
     ]
    }
   ],
   "source": [
    "def name(f_n,l_n):\n",
    "    f = f\"{f_n} {l_n}\"\n",
    "    return f\n",
    "\n",
    "while True:\n",
    "    f_nn =input('enterr first name')\n",
    "    if f_nn == 'q':\n",
    "        break\n",
    "    l_nn =input(\"last name hereh\")\n",
    "    \n",
    "    h = name(f_nn,l_nn)\n",
    "    print(h)\n",
    "    \n",
    "    "
   ]
  },
  {
   "cell_type": "code",
   "execution_count": 1,
   "metadata": {},
   "outputs": [
    {
     "name": "stdout",
     "output_type": "stream",
     "text": [
      "'chennai,india'\n"
     ]
    }
   ],
   "source": [
    "def country(city,country):\n",
    "    strg=(f\"'{city},{country}'\")\n",
    "    return strg\n",
    "\n",
    "out =country('chennai','india')\n",
    "print(out)"
   ]
  },
  {
   "cell_type": "code",
   "execution_count": 8,
   "metadata": {},
   "outputs": [
    {
     "name": "stdout",
     "output_type": "stream",
     "text": [
      "{'name': 'peace', 'song': 'popstar', 'age': 27}\n"
     ]
    }
   ],
   "source": [
    "def music(album,title,age = None):\n",
    "    if age :\n",
    "        alb = {'name': album,'song':title,'age':age}\n",
    "    else:\n",
    "        alb = {'name': album,'song':title}\n",
    "    return alb\n",
    "hi = music('peace','popstar',27)\n",
    "print(hi)"
   ]
  },
  {
   "cell_type": "code",
   "execution_count": null,
   "metadata": {},
   "outputs": [],
   "source": [
    "def music1():\n",
    "    music = {}\n",
    "    bye = True\n",
    "    while bye:\n",
    "        print(\"tell us your favorite album and song or press quit\")\n",
    "        name = input('album name here')\n",
    "        song = input('song name here')\n",
    "        music = {'name':name,\"song\":song}\n",
    "        \n",
    "        if name == 'quit':\n",
    "            bye = False\n",
    "        for i,v in music.items():\n",
    "            print(f\"{name},{song}\")\n",
    "            \n",
    "me = (music1)\n",
    "print(me)\n",
    "            \n",
    "        \n",
    "       \n",
    "        \n",
    "hi = music()\n",
    "print(hi)"
   ]
  },
  {
   "cell_type": "code",
   "execution_count": 4,
   "metadata": {},
   "outputs": [],
   "source": [
    "def get_formatted_name(album,song):\n",
    "\n",
    "    d = {'album1':album,'songs':song}\n",
    "    return d\n",
    "    \n",
    "    while True:\n",
    "        print(\"\\nPlease tell me your  fav album name and song:\")\n",
    "        print(\"(enter 'q' at any time to quit)\")\n",
    "        f_name = input(\"album name: \")\n",
    "        if f_name == 'q':\n",
    "            break\n",
    "        l_name = input(\"song name: \")\n",
    "        if l_name == 'q':\n",
    "            break\n",
    "        formatted_name = get_formatted_name(f_name, l_name)\n",
    "        print(f\"\\nHello, {formatted_name}!\")"
   ]
  },
  {
   "cell_type": "code",
   "execution_count": 4,
   "metadata": {},
   "outputs": [
    {
     "name": "stdout",
     "output_type": "stream",
     "text": [
      "You lost\n",
      "You lost\n",
      "You Won\n"
     ]
    }
   ],
   "source": [
    "from random import randint\n",
    "game = True\n",
    "while game:\n",
    "    num = randint(1,6)\n",
    "    guess_num = int(input(\"Enter  Number : \"))\n",
    "    if num == guess_num:\n",
    "        print(\"You Won\")\n",
    "        game = False\n",
    "    else:\n",
    "        print(\"You lost\")"
   ]
  },
  {
   "cell_type": "code",
   "execution_count": 3,
   "metadata": {},
   "outputs": [
    {
     "name": "stdout",
     "output_type": "stream",
     "text": [
      "enter your name , if you dont want to just press no no\n"
     ]
    }
   ],
   "source": [
    "goon = True\n",
    "with open(\"fil.txt\",\"a\") as text:\n",
    "    while goon:\n",
    "        name = input(\"enter your name , if you dont want to just press no \")\n",
    "        if name == \"no\":\n",
    "            goon = False\n",
    "        else:\n",
    "            text.write(f\"{name} \\n\")\n",
    "            print(\"Thanks For Visiting\")"
   ]
  },
  {
   "cell_type": "code",
   "execution_count": 8,
   "metadata": {
    "scrolled": true
   },
   "outputs": [
    {
     "name": "stdout",
     "output_type": "stream",
     "text": [
      "i hate you . vishwa is Good a Boyi hate you . vishwa is Good a Boyvignesh \n",
      "akssg \n",
      "ddvhjv \n",
      "vignesh \n",
      "akash \n",
      "dhivya \n",
      "i hate you . vishwa is Good a Boy\n"
     ]
    }
   ],
   "source": [
    "with open(\"fil.txt\") as text:\n",
    "    content = text.read()\n",
    "print(content)"
   ]
  },
  {
   "cell_type": "code",
   "execution_count": 4,
   "metadata": {},
   "outputs": [
    {
     "name": "stdout",
     "output_type": "stream",
     "text": [
      "why you chooosed coding : i love it\n",
      "Thanks For Your Valuable Time \n",
      "why you chooosed coding : it cuz of my parents\n",
      "Thanks For Your Valuable Time \n",
      "why you chooosed coding : i dont how it all started\n",
      "Thanks For Your Valuable Time \n",
      "why you chooosed coding : no\n"
     ]
    }
   ],
   "source": [
    "flag = True\n",
    "with open(\"fil.txt\",\"w\") as text:\n",
    "    while flag:\n",
    "        opinion = input(\"why you chooosed coding : \")\n",
    "        if opinion == \"no\":\n",
    "            flag = False\n",
    "        else:\n",
    "            text.write(f\"{opinion} \\n\")\n",
    "            print(\"Thanks For Your Valuable Time \")"
   ]
  },
  {
   "cell_type": "code",
   "execution_count": 3,
   "metadata": {
    "scrolled": true
   },
   "outputs": [
    {
     "name": "stdout",
     "output_type": "stream",
     "text": [
      "You Can't Divide with a Letter or Text\n"
     ]
    }
   ],
   "source": [
    "while True:\n",
    "    num1 = input(\"Enter the Number : \")\n",
    "    if num1 == \"q\":\n",
    "        break\n",
    "    num2 = input(\"Enter the Divisor : \")\n",
    "    if  num2 == \"q\":\n",
    "        break\n",
    "    try:\n",
    "        ans = int(num1) // int(num2)\n",
    "    except ValueError:\n",
    "        print(\"You Can't Divide with a Letter or Text\")\n",
    "    else:\n",
    "        print(ans)"
   ]
  },
  {
   "cell_type": "code",
   "execution_count": 2,
   "metadata": {},
   "outputs": [
    {
     "ename": "ModuleNotFoundError",
     "evalue": "No module named 'pandas'",
     "output_type": "error",
     "traceback": [
      "\u001b[1;31m---------------------------------------------------------------------------\u001b[0m",
      "\u001b[1;31mModuleNotFoundError\u001b[0m                       Traceback (most recent call last)",
      "\u001b[1;32m~\\AppData\\Local\\Temp/ipykernel_5216/2403336272.py\u001b[0m in \u001b[0;36m<module>\u001b[1;34m\u001b[0m\n\u001b[0;32m      1\u001b[0m \u001b[1;32mimport\u001b[0m \u001b[0mnumpy\u001b[0m \u001b[1;32mas\u001b[0m \u001b[0mnp\u001b[0m\u001b[1;33m\u001b[0m\u001b[1;33m\u001b[0m\u001b[0m\n\u001b[1;32m----> 2\u001b[1;33m \u001b[1;32mimport\u001b[0m \u001b[0mpandas\u001b[0m \u001b[1;32mas\u001b[0m \u001b[0mpd\u001b[0m\u001b[1;33m\u001b[0m\u001b[1;33m\u001b[0m\u001b[0m\n\u001b[0m\u001b[0;32m      3\u001b[0m df = pd.DataFrame(np.random.rand(10, 4), \n\u001b[0;32m      4\u001b[0m                   columns=('col_1', 'col_2', 'col_3', 'col_4'))\n\u001b[0;32m      5\u001b[0m \u001b[1;31m# print(df)\u001b[0m\u001b[1;33m\u001b[0m\u001b[1;33m\u001b[0m\u001b[0m\n",
      "\u001b[1;31mModuleNotFoundError\u001b[0m: No module named 'pandas'"
     ]
    }
   ],
   "source": [
    "import numpy as np\n",
    "import pandas as pd\n",
    "df = pd.DataFrame(np.random.rand(10, 4), \n",
    "                  columns=('col_1', 'col_2', 'col_3', 'col_4'))\n",
    "# print(df)\n",
    "print(df.plot())"
   ]
  },
  {
   "cell_type": "code",
   "execution_count": null,
   "metadata": {},
   "outputs": [],
   "source": []
  }
 ],
 "metadata": {
  "interpreter": {
   "hash": "f211be362e93321a03490877326e5cfc4ff2ab9bfbbd02de87b6d11b83425424"
  },
  "kernelspec": {
   "display_name": "Python 3.10.0 64-bit",
   "name": "python3"
  },
  "language_info": {
   "codemirror_mode": {
    "name": "ipython",
    "version": 3
   },
   "file_extension": ".py",
   "mimetype": "text/x-python",
   "name": "python",
   "nbconvert_exporter": "python",
   "pygments_lexer": "ipython3",
   "version": "3.10.0"
  }
 },
 "nbformat": 4,
 "nbformat_minor": 4
}
